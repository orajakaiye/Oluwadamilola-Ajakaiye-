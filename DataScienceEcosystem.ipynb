{
 "cells": [
  {
   "cell_type": "markdown",
   "id": "6323fcb2-7565-4981-82c0-9cca6f778b52",
   "metadata": {},
   "source": [
    "# Data Science Tools and Ecosystem"
   ]
  },
  {
   "cell_type": "markdown",
   "id": "bd210dad-3270-4b24-a953-be75ee4627b3",
   "metadata": {},
   "source": [
    "In this notebook, Data Science Tools and Ecosystem are summarized."
   ]
  },
  {
   "cell_type": "markdown",
   "id": "ad1d8cb9-5d33-417f-979a-8b64f0ac0452",
   "metadata": {},
   "source": [
    "Some of the popular languages that Data Scientists use are:\n",
    "1. Python\n",
    "2. R\n",
    "3. SQL"
   ]
  },
  {
   "cell_type": "markdown",
   "id": "7cadb7f9-6f2b-49fb-af3c-e6b99382c40a",
   "metadata": {},
   "source": [
    "Objectives:\n",
    "- Learn how to use the R programming language\n",
    "- Know how to manipulate data\n",
    "- Learn how to use the jupyter notebook\n",
    "- Know how to go around the anarconda software\n",
    "- Know how to code wirth python programming language\n",
    "- Know how to use data visualization tools\n",
    "- Know about data management"
   ]
  },
  {
   "cell_type": "markdown",
   "id": "f585716c-c14e-4e2a-ba3d-989082b28b78",
   "metadata": {},
   "source": [
    "Some of the commonly used libraries used by Data Scientists include:\n",
    "1. Pandas\n",
    "2. NumPy\n",
    "3. Matplotlab\n",
    "4. Seaborn\n",
    "5. Scikit-learn\n",
    "6. Natural Language Toolkit\n",
    "7. Jupyter Notebook\n",
    "8. SciPy\n",
    "9. TensorFlow\n"
   ]
  },
  {
   "cell_type": "markdown",
   "id": "fc6463f5-abda-4eec-8382-3da82bdca536",
   "metadata": {},
   "source": [
    "| Data Science Tools |\n",
    "------------------------\n",
    "1. Data Management tools e.g Apache Hahoop\n",
    "2. Data Integration Tools e.g Apache airflow\n",
    "3. Data Visualization tools e.g seaborn\n",
    "4. Modeling tools e.g TensorFlow\n",
    "5. Deployment tools e.g IBM watson Studio"
   ]
  },
  {
   "cell_type": "markdown",
   "id": "d3ab9e22-9623-4f94-b941-5ff31f56f72f",
   "metadata": {},
   "source": [
    "### Below are a few examples of evaluating arithmetic expressions in Python"
   ]
  },
  {
   "cell_type": "code",
   "execution_count": 2,
   "id": "860697e4-5e77-42e3-9a06-ae204e84172f",
   "metadata": {},
   "outputs": [
    {
     "data": {
      "text/plain": [
       "17"
      ]
     },
     "execution_count": 2,
     "metadata": {},
     "output_type": "execute_result"
    }
   ],
   "source": [
    "# This a simple arithmetic expression to mutiply then add integers\n",
    "(3*4)+5"
   ]
  },
  {
   "cell_type": "code",
   "execution_count": 3,
   "id": "7ee298aa-6e9c-49fa-a656-7a9d0daa2449",
   "metadata": {},
   "outputs": [
    {
     "name": "stdout",
     "output_type": "stream",
     "text": [
      "200 minutes is equal to 3.3333333333333335 hours.\n"
     ]
    }
   ],
   "source": [
    "# This will convert 200 minutes to hours by diving by 60\n",
    "minutes = 200\n",
    "hours = minutes / 60\n",
    "print(f\"{minutes} minutes is equal to {hours} hours.\")\n"
   ]
  },
  {
   "cell_type": "markdown",
   "id": "053c3986-f3d9-4f4d-8ba4-06a743d94d24",
   "metadata": {},
   "source": [
    "## Author\n",
    "Oluwadamilola Ajakaiye"
   ]
  }
 ],
 "metadata": {
  "kernelspec": {
   "display_name": "Python 3 (ipykernel)",
   "language": "python",
   "name": "python3"
  },
  "language_info": {
   "codemirror_mode": {
    "name": "ipython",
    "version": 3
   },
   "file_extension": ".py",
   "mimetype": "text/x-python",
   "name": "python",
   "nbconvert_exporter": "python",
   "pygments_lexer": "ipython3",
   "version": "3.11.7"
  }
 },
 "nbformat": 4,
 "nbformat_minor": 5
}
